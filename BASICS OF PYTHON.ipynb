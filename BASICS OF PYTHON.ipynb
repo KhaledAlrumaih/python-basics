{
 "cells": [
  {
   "cell_type": "markdown",
   "id": "789bf7e8",
   "metadata": {},
   "source": [
    "# PYTHON START"
   ]
  },
  {
   "cell_type": "markdown",
   "id": "84225a56",
   "metadata": {},
   "source": [
    "## MY NAME IS KHALED\n",
    "- DATATYPE\n",
    "- VARIOUS WAYS OF PRINTING\n",
    "- mathematical operations"
   ]
  },
  {
   "cell_type": "code",
   "execution_count": 2,
   "id": "cb6d5efd",
   "metadata": {},
   "outputs": [
    {
     "data": {
      "text/plain": [
       "2"
      ]
     },
     "execution_count": 2,
     "metadata": {},
     "output_type": "execute_result"
    }
   ],
   "source": [
    "1+1"
   ]
  },
  {
   "cell_type": "code",
   "execution_count": 11,
   "id": "e3f7c062",
   "metadata": {
    "scrolled": false
   },
   "outputs": [
    {
     "data": {
      "text/plain": [
       "bool"
      ]
     },
     "execution_count": 11,
     "metadata": {},
     "output_type": "execute_result"
    }
   ],
   "source": [
    "type(True)"
   ]
  },
  {
   "cell_type": "markdown",
   "id": "b72faa8c",
   "metadata": {},
   "source": [
    "## variable Assigment"
   ]
  },
  {
   "cell_type": "code",
   "execution_count": 13,
   "id": "6a9be89f",
   "metadata": {},
   "outputs": [],
   "source": [
    "# assign a for 10 int.\n",
    "a=10"
   ]
  },
  {
   "cell_type": "code",
   "execution_count": 14,
   "id": "faac2ce5",
   "metadata": {},
   "outputs": [
    {
     "data": {
      "text/plain": [
       "int"
      ]
     },
     "execution_count": 14,
     "metadata": {},
     "output_type": "execute_result"
    }
   ],
   "source": [
    "type(a)"
   ]
  },
  {
   "cell_type": "code",
   "execution_count": 15,
   "id": "73bf912e",
   "metadata": {},
   "outputs": [
    {
     "name": "stdout",
     "output_type": "stream",
     "text": [
      "200\n",
      "0.5\n",
      "10\n",
      "200.5\n"
     ]
    }
   ],
   "source": [
    "b=20\n",
    "print(a*b)\n",
    "print(a/b)\n",
    "print(a%b)\n",
    "print((a*b)+(a/b)) ##BODMAS rule"
   ]
  },
  {
   "cell_type": "code",
   "execution_count": 16,
   "id": "2c46eeaa",
   "metadata": {},
   "outputs": [
    {
     "name": "stdout",
     "output_type": "stream",
     "text": [
      "hello world\n"
     ]
    }
   ],
   "source": [
    "# VARIOUS WAYS OF PRINTING \n",
    "\n",
    "print('hello world')"
   ]
  },
  {
   "cell_type": "code",
   "execution_count": 17,
   "id": "245b4352",
   "metadata": {},
   "outputs": [],
   "source": [
    "first_name='khaled'\n",
    "last_name='alrumaih'"
   ]
  },
  {
   "cell_type": "code",
   "execution_count": 18,
   "id": "af41721d",
   "metadata": {},
   "outputs": [
    {
     "name": "stdout",
     "output_type": "stream",
     "text": [
      "my first name is khaled and last name is alrumaih\n"
     ]
    }
   ],
   "source": [
    "print(\"my first name is {} and last name is {}\". format(first_name,last_name))"
   ]
  },
  {
   "cell_type": "code",
   "execution_count": 19,
   "id": "bad914b4",
   "metadata": {},
   "outputs": [
    {
     "name": "stdout",
     "output_type": "stream",
     "text": [
      "my first name is khaled and last name is alrumaih\n"
     ]
    }
   ],
   "source": [
    "print(\"my first name is {first} and last name is {last}\". format(first=first_name,last=last_name))"
   ]
  },
  {
   "cell_type": "code",
   "execution_count": 21,
   "id": "6e96dc86",
   "metadata": {},
   "outputs": [
    {
     "data": {
      "text/plain": [
       "6"
      ]
     },
     "execution_count": 21,
     "metadata": {},
     "output_type": "execute_result"
    }
   ],
   "source": [
    "len('khaled') # counting the charactires"
   ]
  },
  {
   "cell_type": "code",
   "execution_count": 22,
   "id": "433c1b5f",
   "metadata": {},
   "outputs": [
    {
     "data": {
      "text/plain": [
       "list"
      ]
     },
     "execution_count": 22,
     "metadata": {},
     "output_type": "execute_result"
    }
   ],
   "source": [
    "type(['1',2,2.1]) # type is list"
   ]
  },
  {
   "cell_type": "code",
   "execution_count": null,
   "id": "bd7d5468",
   "metadata": {},
   "outputs": [],
   "source": []
  }
 ],
 "metadata": {
  "kernelspec": {
   "display_name": "Python 3 (ipykernel)",
   "language": "python",
   "name": "python3"
  },
  "language_info": {
   "codemirror_mode": {
    "name": "ipython",
    "version": 3
   },
   "file_extension": ".py",
   "mimetype": "text/x-python",
   "name": "python",
   "nbconvert_exporter": "python",
   "pygments_lexer": "ipython3",
   "version": "3.11.5"
  }
 },
 "nbformat": 4,
 "nbformat_minor": 5
}
